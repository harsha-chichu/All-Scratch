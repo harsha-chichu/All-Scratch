{
  "nbformat": 4,
  "nbformat_minor": 0,
  "metadata": {
    "colab": {
      "provenance": []
    },
    "kernelspec": {
      "name": "python3",
      "display_name": "Python 3"
    },
    "language_info": {
      "name": "python"
    }
  },
  "cells": [
    {
      "cell_type": "code",
      "execution_count": null,
      "metadata": {
        "id": "3BXMTMNrQ4wA"
      },
      "outputs": [],
      "source": [
        "import numpy as np\n",
        "import pandas as pd\n",
        "import matplotlib.pyplot as plt"
      ]
    },
    {
      "cell_type": "markdown",
      "source": [
        "##Generating Synthetic Data"
      ],
      "metadata": {
        "id": "mHBvyRxhXatH"
      }
    },
    {
      "cell_type": "code",
      "source": [
        "#seed for Reproducibility\n",
        "np.random.seed(42)\n",
        "\n",
        "#Generate Random X values between 0 and 2\n",
        "X = 2*np.random.rand(100,1)\n",
        "\n",
        "#Genetate Random y values using y = mX + c + noice\n",
        "y = 3*X + 5 + np.random.randn(100,1)*0.5\n",
        "np.shape(y)"
      ],
      "metadata": {
        "colab": {
          "base_uri": "https://localhost:8080/"
        },
        "id": "6HykDKh4Rrkd",
        "outputId": "f12d7203-368f-427c-8573-70480ac3d7de"
      },
      "execution_count": null,
      "outputs": [
        {
          "output_type": "execute_result",
          "data": {
            "text/plain": [
              "(100, 1)"
            ]
          },
          "metadata": {},
          "execution_count": 35
        }
      ]
    },
    {
      "cell_type": "code",
      "source": [
        "print(y)"
      ],
      "metadata": {
        "id": "Ts_z7yGnczCg"
      },
      "execution_count": null,
      "outputs": []
    },
    {
      "cell_type": "markdown",
      "source": [
        "##Adding Bias Term to X"
      ],
      "metadata": {
        "id": "TaqJnP3XZPl4"
      }
    },
    {
      "cell_type": "code",
      "source": [
        "#We need to add column of ones to account for the intercept (just to make the math easy)\n",
        "x_b = np.c_[np.ones((100,1)),X]\n",
        "np.shape(x_b)"
      ],
      "metadata": {
        "colab": {
          "base_uri": "https://localhost:8080/"
        },
        "id": "_VNcNPMAZUOp",
        "outputId": "49c5ed26-9c0b-4acb-9082-4f6ce1ff0fd2"
      },
      "execution_count": null,
      "outputs": [
        {
          "output_type": "execute_result",
          "data": {
            "text/plain": [
              "(100, 2)"
            ]
          },
          "metadata": {},
          "execution_count": 28
        }
      ]
    },
    {
      "cell_type": "code",
      "source": [
        "print(x_b)"
      ],
      "metadata": {
        "id": "zpXCG3xGb-hL"
      },
      "execution_count": null,
      "outputs": []
    },
    {
      "cell_type": "markdown",
      "source": [
        "##Initialising parameters"
      ],
      "metadata": {
        "id": "610J5K7fdJ2Q"
      }
    },
    {
      "cell_type": "code",
      "source": [
        "#Gradient Descent starts with random initial values for theta\n",
        "#Random Initialization Helps explore the solution space instead of assuming a fixed starting point.\n",
        "theta = np.random.randn(2,1) # Random initial values for [theta_0, theta_1]\n",
        "np.shape(theta)"
      ],
      "metadata": {
        "colab": {
          "base_uri": "https://localhost:8080/"
        },
        "id": "zVraoCDycm2u",
        "outputId": "bb031ea9-a35c-42b2-8aac-d1fe76a0b842"
      },
      "execution_count": null,
      "outputs": [
        {
          "output_type": "execute_result",
          "data": {
            "text/plain": [
              "(2, 1)"
            ]
          },
          "metadata": {},
          "execution_count": 41
        }
      ]
    },
    {
      "cell_type": "code",
      "source": [
        "print(theta)"
      ],
      "metadata": {
        "colab": {
          "base_uri": "https://localhost:8080/"
        },
        "id": "W0FtgG86itT_",
        "outputId": "9b21622f-7617-4d98-ef6c-b28a11a487ac"
      },
      "execution_count": null,
      "outputs": [
        {
          "output_type": "stream",
          "name": "stdout",
          "text": [
            "[[-1.0708925 ]\n",
            " [ 0.48247242]]\n"
          ]
        }
      ]
    },
    {
      "cell_type": "markdown",
      "source": [
        "## Implementing Gradient Descent\n"
      ],
      "metadata": {
        "id": "AwuJKOgteyR6"
      }
    },
    {
      "cell_type": "code",
      "source": [
        "#Hyperparameters\n",
        "learning_rate = 0.1 #alpha\n",
        "iterations = 1000\n",
        "m = len(x_b)  # Number of samples\n",
        "\n",
        "# Gradient Descent Loop\n",
        "for i in range (iterations):\n",
        "  gradients = (2/m)*x_b.T.dot(x_b.dot(theta)-y)\n",
        "  theta -= learning_rate*gradients"
      ],
      "metadata": {
        "id": "wuJvPc6ee4JG"
      },
      "execution_count": null,
      "outputs": []
    },
    {
      "cell_type": "markdown",
      "source": [
        "##Printing Estimated Parameters"
      ],
      "metadata": {
        "id": "B8rgQ8Zpmnlt"
      }
    },
    {
      "cell_type": "code",
      "source": [
        "print(\"Theta estimated using Gradient Descent:\", theta)"
      ],
      "metadata": {
        "colab": {
          "base_uri": "https://localhost:8080/"
        },
        "id": "pIofm1K6mwR2",
        "outputId": "2b16ae76-32d4-4bab-ca60-bedd5e4564c2"
      },
      "execution_count": null,
      "outputs": [
        {
          "output_type": "stream",
          "name": "stdout",
          "text": [
            "Theta estimated using Gradient Descent: [[5.10754808]\n",
            " [2.88505669]]\n"
          ]
        }
      ]
    },
    {
      "cell_type": "markdown",
      "source": [
        "Which means the final equation is y = (2.88505669)X + 5.10754808\n",
        "\n",
        "*   ~ y = 3x + 5\n",
        "\n"
      ],
      "metadata": {
        "id": "JNd8v7yOnKzJ"
      }
    },
    {
      "cell_type": "markdown",
      "source": [
        "##Visualizing the Result"
      ],
      "metadata": {
        "id": "bjqiC2elpHHM"
      }
    },
    {
      "cell_type": "code",
      "source": [
        "plt.scatter(X,y,color=\"blue\", label=\"Data points\")\n",
        "\n",
        "#Regression Line\n",
        "plt.plot(X, x_b.dot(theta), color=\"red\", linewidth=2, label=\"Linear Regression Fit\")\n",
        "\n",
        "plt.xlabel(\"X values\")\n",
        "plt.ylabel(\"y values\")\n",
        "plt.legend()\n",
        "plt.title(\"Linear Regression using Gradient Descent\")\n",
        "plt.show()\n"
      ],
      "metadata": {
        "colab": {
          "base_uri": "https://localhost:8080/",
          "height": 472
        },
        "id": "6NR9p2UCpNbl",
        "outputId": "9bebbe0c-b35a-470b-9f66-f43b5b51fa79"
      },
      "execution_count": null,
      "outputs": [
        {
          "output_type": "display_data",
          "data": {
            "text/plain": [
              "<Figure size 640x480 with 1 Axes>"
            ],
            "image/png": "[encoded data removed]"
          },
          "metadata": {}
        }
      ]
    },
    {
      "cell_type": "markdown",
      "source": [
        "##Comparing with Scikit-Learn"
      ],
      "metadata": {
        "id": "uG3mu_i2qJoj"
      }
    },
    {
      "cell_type": "code",
      "source": [
        "from sklearn.linear_model import LinearRegression\n",
        "\n",
        "model = LinearRegression()\n",
        "model.fit(X,y)\n",
        "\n",
        "print(\"Theta estimated using Scikit-Learn:\")\n",
        "print(\"Intercept:\", model.intercept_)\n",
        "print(\"Slope:\", model.coef_)"
      ],
      "metadata": {
        "colab": {
          "base_uri": "https://localhost:8080/"
        },
        "id": "IjOG22pXqQFU",
        "outputId": "eb881147-fd7c-4cef-a0f5-8c032ea15a6d"
      },
      "execution_count": null,
      "outputs": [
        {
          "output_type": "stream",
          "name": "stdout",
          "text": [
            "Theta estimated using Scikit-Learn:\n",
            "Intercept: [5.10754808]\n",
            "Slope: [[2.88505669]]\n"
          ]
        }
      ]
    }
  ]
}